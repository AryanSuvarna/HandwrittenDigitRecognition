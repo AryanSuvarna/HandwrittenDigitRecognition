{
 "cells": [
  {
   "attachments": {},
   "cell_type": "markdown",
   "metadata": {},
   "source": [
    "# Testing my own data"
   ]
  },
  {
   "attachments": {},
   "cell_type": "markdown",
   "metadata": {},
   "source": [
    "#### IMPORTS"
   ]
  },
  {
   "cell_type": "code",
   "execution_count": 1,
   "metadata": {},
   "outputs": [],
   "source": [
    "import tensorflow as tf\n",
    "import numpy as np\n",
    "import matplotlib.pyplot as plt\n",
    "import os\n",
    "import cv2"
   ]
  },
  {
   "attachments": {},
   "cell_type": "markdown",
   "metadata": {},
   "source": [
    "Load in the model (change the name of the model if you have your own model)"
   ]
  },
  {
   "cell_type": "code",
   "execution_count": 2,
   "metadata": {},
   "outputs": [],
   "source": [
    "model = tf.keras.models.load_model('numClassification.model')"
   ]
  },
  {
   "attachments": {},
   "cell_type": "markdown",
   "metadata": {},
   "source": [
    "We created a bunch of test cases in the `digitImages` folder. You can create our own test cases in Paint by setting the canvas to $28 \\times 28$. We are going to test our model with these tests."
   ]
  },
  {
   "cell_type": "code",
   "execution_count": 3,
   "metadata": {},
   "outputs": [
    {
     "name": "stdout",
     "output_type": "stream",
     "text": [
      "1/1 [==============================] - 0s 170ms/step\n",
      "Prediction: 2\n",
      "1/1 [==============================] - 0s 19ms/step\n",
      "Prediction: 1\n",
      "1/1 [==============================] - 0s 24ms/step\n",
      "Prediction: 3\n",
      "1/1 [==============================] - 0s 16ms/step\n",
      "Prediction: 4\n",
      "1/1 [==============================] - 0s 17ms/step\n",
      "Prediction: 3\n",
      "1/1 [==============================] - 0s 18ms/step\n",
      "Prediction: 4\n",
      "1/1 [==============================] - 0s 19ms/step\n",
      "Prediction: 8\n",
      "1/1 [==============================] - 0s 18ms/step\n",
      "Prediction: 9\n",
      "1/1 [==============================] - 0s 20ms/step\n",
      "Prediction: 7\n",
      "1/1 [==============================] - 0s 19ms/step\n",
      "Prediction: 4\n",
      "1/1 [==============================] - 0s 18ms/step\n",
      "Prediction: 3\n",
      "1/1 [==============================] - 0s 21ms/step\n",
      "Prediction: 8\n",
      "1/1 [==============================] - 0s 19ms/step\n",
      "Prediction: 5\n",
      "1/1 [==============================] - 0s 17ms/step\n",
      "Prediction: 3\n"
     ]
    }
   ],
   "source": [
    "image_number = 1\n",
    "while os.path.isfile(f\"digitImages/img{image_number}.png\"):\n",
    "    try:\n",
    "        img = cv2.imread(f\"digitImages/img{image_number}.png\")[:,:,0]\n",
    "        img_copy = img.copy()\n",
    "        # invert the colors.\n",
    "        img_copy = np.invert(np.array([img_copy]))\n",
    "        # normalize data\n",
    "        img_copy = img_copy / 255 \n",
    "        img_copy = img_copy.reshape(img_copy.shape[0], -1)\n",
    "        \n",
    "        prediction = model.predict(img_copy)\n",
    "        print(f\"Prediction: {np.argmax(prediction)}\")\n",
    "        cv2.imshow(\"Image\", img)\n",
    "        cv2.waitKey(0)\n",
    "        # Close all windows\n",
    "        cv2.destroyAllWindows()\n",
    "    except Exception as e:\n",
    "        print(e)\n",
    "    finally:\n",
    "        image_number += 1"
   ]
  }
 ],
 "metadata": {
  "kernelspec": {
   "display_name": "Python 3",
   "language": "python",
   "name": "python3"
  },
  "language_info": {
   "codemirror_mode": {
    "name": "ipython",
    "version": 3
   },
   "file_extension": ".py",
   "mimetype": "text/x-python",
   "name": "python",
   "nbconvert_exporter": "python",
   "pygments_lexer": "ipython3",
   "version": "3.10.5"
  },
  "orig_nbformat": 4
 },
 "nbformat": 4,
 "nbformat_minor": 2
}

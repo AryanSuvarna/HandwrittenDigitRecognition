{
 "cells": [
  {
   "attachments": {},
   "cell_type": "markdown",
   "metadata": {},
   "source": [
    "# Number Classification (Multiclass Classification)\n"
   ]
  },
  {
   "attachments": {},
   "cell_type": "markdown",
   "metadata": {},
   "source": [
    "In this notebook, I will building a neural network capable of identifying numbers from 0-9. I will be using multiclass classification neural network utilizing the Softmax Regression Algorithm. In addition, I will be using Kera's in-built datasets, specifically the MNIST dataset. "
   ]
  },
  {
   "attachments": {},
   "cell_type": "markdown",
   "metadata": {},
   "source": [
    "#### IMPORTS"
   ]
  },
  {
   "cell_type": "code",
   "execution_count": 1,
   "metadata": {},
   "outputs": [],
   "source": [
    "import tensorflow as tf\n",
    "import numpy as np\n",
    "import matplotlib.pyplot as plt"
   ]
  },
  {
   "attachments": {},
   "cell_type": "markdown",
   "metadata": {},
   "source": [
    "## Dataset Preprocessing"
   ]
  },
  {
   "attachments": {},
   "cell_type": "markdown",
   "metadata": {},
   "source": [
    "Lets import the dataset."
   ]
  },
  {
   "cell_type": "code",
   "execution_count": 2,
   "metadata": {},
   "outputs": [],
   "source": [
    "mnist = tf.keras.datasets.mnist\n",
    "\n",
    "(x_train, y_train), (x_test, y_test) = mnist.load_data()\n",
    "\n",
    "assert x_train.shape == (60000, 28, 28)\n",
    "assert x_test.shape == (10000, 28, 28)\n",
    "assert y_train.shape == (60000,)\n",
    "assert y_test.shape == (10000,)"
   ]
  },
  {
   "attachments": {},
   "cell_type": "markdown",
   "metadata": {},
   "source": [
    "Lets get a bit more familiar with our dataset. We will start by printing out each variable, `x` and `y`, and see what it contains."
   ]
  },
  {
   "cell_type": "code",
   "execution_count": 3,
   "metadata": {},
   "outputs": [
    {
     "name": "stdout",
     "output_type": "stream",
     "text": [
      "The first element of x in the training set is: [[  0   0   0   0   0   0   0   0   0   0   0   0   0   0   0   0   0   0\n",
      "    0   0   0   0   0   0   0   0   0   0]\n",
      " [  0   0   0   0   0   0   0   0   0   0   0   0   0   0   0   0   0   0\n",
      "    0   0   0   0   0   0   0   0   0   0]\n",
      " [  0   0   0   0   0   0   0   0   0   0   0   0   0   0   0   0   0   0\n",
      "    0   0   0   0   0   0   0   0   0   0]\n",
      " [  0   0   0   0   0   0   0   0   0   0   0   0   0   0   0   0   0   0\n",
      "    0   0   0   0   0   0   0   0   0   0]\n",
      " [  0   0   0   0   0   0   0   0   0   0   0   0   0   0   0   0   0   0\n",
      "    0   0   0   0   0   0   0   0   0   0]\n",
      " [  0   0   0   0   0   0   0   0   0   0   0   0   3  18  18  18 126 136\n",
      "  175  26 166 255 247 127   0   0   0   0]\n",
      " [  0   0   0   0   0   0   0   0  30  36  94 154 170 253 253 253 253 253\n",
      "  225 172 253 242 195  64   0   0   0   0]\n",
      " [  0   0   0   0   0   0   0  49 238 253 253 253 253 253 253 253 253 251\n",
      "   93  82  82  56  39   0   0   0   0   0]\n",
      " [  0   0   0   0   0   0   0  18 219 253 253 253 253 253 198 182 247 241\n",
      "    0   0   0   0   0   0   0   0   0   0]\n",
      " [  0   0   0   0   0   0   0   0  80 156 107 253 253 205  11   0  43 154\n",
      "    0   0   0   0   0   0   0   0   0   0]\n",
      " [  0   0   0   0   0   0   0   0   0  14   1 154 253  90   0   0   0   0\n",
      "    0   0   0   0   0   0   0   0   0   0]\n",
      " [  0   0   0   0   0   0   0   0   0   0   0 139 253 190   2   0   0   0\n",
      "    0   0   0   0   0   0   0   0   0   0]\n",
      " [  0   0   0   0   0   0   0   0   0   0   0  11 190 253  70   0   0   0\n",
      "    0   0   0   0   0   0   0   0   0   0]\n",
      " [  0   0   0   0   0   0   0   0   0   0   0   0  35 241 225 160 108   1\n",
      "    0   0   0   0   0   0   0   0   0   0]\n",
      " [  0   0   0   0   0   0   0   0   0   0   0   0   0  81 240 253 253 119\n",
      "   25   0   0   0   0   0   0   0   0   0]\n",
      " [  0   0   0   0   0   0   0   0   0   0   0   0   0   0  45 186 253 253\n",
      "  150  27   0   0   0   0   0   0   0   0]\n",
      " [  0   0   0   0   0   0   0   0   0   0   0   0   0   0   0  16  93 252\n",
      "  253 187   0   0   0   0   0   0   0   0]\n",
      " [  0   0   0   0   0   0   0   0   0   0   0   0   0   0   0   0   0 249\n",
      "  253 249  64   0   0   0   0   0   0   0]\n",
      " [  0   0   0   0   0   0   0   0   0   0   0   0   0   0  46 130 183 253\n",
      "  253 207   2   0   0   0   0   0   0   0]\n",
      " [  0   0   0   0   0   0   0   0   0   0   0   0  39 148 229 253 253 253\n",
      "  250 182   0   0   0   0   0   0   0   0]\n",
      " [  0   0   0   0   0   0   0   0   0   0  24 114 221 253 253 253 253 201\n",
      "   78   0   0   0   0   0   0   0   0   0]\n",
      " [  0   0   0   0   0   0   0   0  23  66 213 253 253 253 253 198  81   2\n",
      "    0   0   0   0   0   0   0   0   0   0]\n",
      " [  0   0   0   0   0   0  18 171 219 253 253 253 253 195  80   9   0   0\n",
      "    0   0   0   0   0   0   0   0   0   0]\n",
      " [  0   0   0   0  55 172 226 253 253 253 253 244 133  11   0   0   0   0\n",
      "    0   0   0   0   0   0   0   0   0   0]\n",
      " [  0   0   0   0 136 253 253 253 212 135 132  16   0   0   0   0   0   0\n",
      "    0   0   0   0   0   0   0   0   0   0]\n",
      " [  0   0   0   0   0   0   0   0   0   0   0   0   0   0   0   0   0   0\n",
      "    0   0   0   0   0   0   0   0   0   0]\n",
      " [  0   0   0   0   0   0   0   0   0   0   0   0   0   0   0   0   0   0\n",
      "    0   0   0   0   0   0   0   0   0   0]\n",
      " [  0   0   0   0   0   0   0   0   0   0   0   0   0   0   0   0   0   0\n",
      "    0   0   0   0   0   0   0   0   0   0]]\n"
     ]
    }
   ],
   "source": [
    "print(f\"The first element of x in the training set is: {x_train[0]}\")"
   ]
  },
  {
   "cell_type": "code",
   "execution_count": 4,
   "metadata": {},
   "outputs": [
    {
     "name": "stdout",
     "output_type": "stream",
     "text": [
      "The first element of y in the training set is: 5\n",
      "The last element of y in the training set is: 8\n"
     ]
    }
   ],
   "source": [
    "print(f\"The first element of y in the training set is: {y_train[0]}\")\n",
    "print(f\"The last element of y in the training set is: {y_train[-1]}\")"
   ]
  },
  {
   "attachments": {},
   "cell_type": "markdown",
   "metadata": {},
   "source": [
    "Let's also get familiar with the dimensions of `x` and `y`."
   ]
  },
  {
   "cell_type": "code",
   "execution_count": 5,
   "metadata": {},
   "outputs": [
    {
     "name": "stdout",
     "output_type": "stream",
     "text": [
      "The shape of x is: (60000, 28, 28)\n",
      "The shape of y is: (60000,)\n"
     ]
    }
   ],
   "source": [
    "print(f\"The shape of x is: {x_train.shape}\")\n",
    "print(f\"The shape of y is: {y_train.shape}\")"
   ]
  },
  {
   "attachments": {},
   "cell_type": "markdown",
   "metadata": {},
   "source": [
    "After analyzing the dataset, we can see that this training dataset consists of 60,000 examples, with each example being $28 \\times 28$. The `x_train` dataset contains the the images as NumPy arrays while the `y_train` dataset contains the actual classification of each image."
   ]
  },
  {
   "attachments": {},
   "cell_type": "markdown",
   "metadata": {},
   "source": [
    "Here is a few examples of what the dataset contains:"
   ]
  },
  {
   "cell_type": "code",
   "execution_count": 6,
   "metadata": {},
   "outputs": [
    {
     "data": {
      "image/png": "[encoded data removed]",
      "text/plain": [
       "<Figure size 2016x2016 with 10 Axes>"
      ]
     },
     "metadata": {
      "needs_background": "light"
     },
     "output_type": "display_data"
    }
   ],
   "source": [
    "numbers = 10\n",
    "f, ax = plt.subplots(1, numbers, figsize=(28,28))\n",
    "\n",
    "for i in range(0, numbers):\n",
    "    sample_num =  x_train[y_train == i][0]\n",
    "    ax[i].imshow(sample_num, cmap=\"gray\")\n",
    "    ax[i].set_title(f\"Number: {i}\")"
   ]
  },
  {
   "attachments": {},
   "cell_type": "markdown",
   "metadata": {},
   "source": [
    "The documentation for the dataset also lets us know that the digits are grayscale images, with pixel values **ranging from 0 to 255**. To improve the processing time (speed) of the finding a good model, we will **normalize** our dataset. This will be especially helpful when running the gradient descent algorithm or the Adaptive Moment Estimation (Adam) algorithm."
   ]
  },
  {
   "cell_type": "code",
   "execution_count": 7,
   "metadata": {},
   "outputs": [],
   "source": [
    "# Normalize data (since max value is 255, we divide all elements by 255 so we get a range of values from 0 to 1)\n",
    "x_train = x_train / 255.0\n",
    "x_test = x_test / 255.0"
   ]
  },
  {
   "attachments": {},
   "cell_type": "markdown",
   "metadata": {},
   "source": [
    "We will also reshape our data. Since each example is (28,28) in shape, we will flatten it and make it one long vector instead of passing a matrix as our input."
   ]
  },
  {
   "cell_type": "code",
   "execution_count": 8,
   "metadata": {},
   "outputs": [
    {
     "name": "stdout",
     "output_type": "stream",
     "text": [
      "Before reshape: (60000, 28, 28)\n",
      "After reshape: (60000, 784)\n"
     ]
    }
   ],
   "source": [
    "# Reshape data\n",
    "print(f\"Before reshape: {x_train.shape}\")\n",
    "x_train = x_train.reshape(x_train.shape[0], -1) # the -1 basically means \"infer the length based on the remaining dimensions. ex.) 28 by 28\"\n",
    "x_test = x_test.reshape(x_test.shape[0], -1)\n",
    "print(f\"After reshape: {x_train.shape}\")"
   ]
  },
  {
   "attachments": {},
   "cell_type": "markdown",
   "metadata": {},
   "source": [
    "## 1. Creating the model"
   ]
  },
  {
   "attachments": {},
   "cell_type": "markdown",
   "metadata": {},
   "source": [
    "Now we will construct our model. Since our images are $28 \\times 28$, this gives us $784$ inputs. Here is the plan:"
   ]
  },
  {
   "attachments": {},
   "cell_type": "markdown",
   "metadata": {},
   "source": [
    "![Model Plan](./modelPlan.png)"
   ]
  },
  {
   "attachments": {},
   "cell_type": "markdown",
   "metadata": {},
   "source": [
    "For numerical stability, the softmax algorithm will be grouped with the loss function rather than grouping it the output layer during training. "
   ]
  },
  {
   "cell_type": "code",
   "execution_count": 9,
   "metadata": {},
   "outputs": [],
   "source": [
    "model = tf.keras.models.Sequential([\n",
    "        tf.keras.Input(shape=(784,)),\n",
    "        tf.keras.layers.Dense(units=128, activation=\"relu\", name=\"Layer1\"),\n",
    "        tf.keras.layers.Dense(units=128, activation=\"relu\", name=\"Layer2\"),\n",
    "        tf.keras.layers.Dense(units=10, activation=\"linear\", name=\"Layer3\"),\n",
    "])"
   ]
  },
  {
   "attachments": {},
   "cell_type": "markdown",
   "metadata": {},
   "source": [
    "**Note:** It is always trial and error when finding the number of neurons/units we need in each layer. I found that using 128 units worked well for this experiment. Our last layer has 10 units to represent the output labels (0-9)."
   ]
  },
  {
   "attachments": {},
   "cell_type": "markdown",
   "metadata": {},
   "source": [
    "Let us see a summary of our model so we have a better intuition of what is going on in our model:"
   ]
  },
  {
   "cell_type": "code",
   "execution_count": 10,
   "metadata": {},
   "outputs": [
    {
     "name": "stdout",
     "output_type": "stream",
     "text": [
      "Model: \"sequential\"\n",
      "_________________________________________________________________\n",
      " Layer (type)                Output Shape              Param #   \n",
      "=================================================================\n",
      " Layer1 (Dense)              (None, 128)               100480    \n",
      "                                                                 \n",
      " Layer2 (Dense)              (None, 128)               16512     \n",
      "                                                                 \n",
      " Layer3 (Dense)              (None, 10)                1290      \n",
      "                                                                 \n",
      "=================================================================\n",
      "Total params: 118,282\n",
      "Trainable params: 118,282\n",
      "Non-trainable params: 0\n",
      "_________________________________________________________________\n"
     ]
    }
   ],
   "source": [
    "model.summary()"
   ]
  },
  {
   "attachments": {},
   "cell_type": "markdown",
   "metadata": {},
   "source": [
    "Below is to verify that our calculations above match tensorflows calcuations:"
   ]
  },
  {
   "cell_type": "code",
   "execution_count": 11,
   "metadata": {},
   "outputs": [
    {
     "name": "stdout",
     "output_type": "stream",
     "text": [
      "W1 shape = (784, 128), b1 shape = (128,)\n",
      "W2 shape = (128, 128), b2 shape = (128,)\n",
      "W3 shape = (128, 10), b3 shape = (10,)\n"
     ]
    }
   ],
   "source": [
    "[layer1, layer2, layer3] = model.layers\n",
    "\n",
    "W1,b1 = layer1.get_weights()\n",
    "W2,b2 = layer2.get_weights()\n",
    "W3,b3 = layer3.get_weights()\n",
    "print(f\"W1 shape = {W1.shape}, b1 shape = {b1.shape}\")\n",
    "print(f\"W2 shape = {W2.shape}, b2 shape = {b2.shape}\")\n",
    "print(f\"W3 shape = {W3.shape}, b3 shape = {b3.shape}\")"
   ]
  },
  {
   "attachments": {},
   "cell_type": "markdown",
   "metadata": {},
   "source": [
    "Now, we will move onto the loss and cost functions!"
   ]
  },
  {
   "attachments": {},
   "cell_type": "markdown",
   "metadata": {},
   "source": [
    "## 2. Loss and cost functions"
   ]
  },
  {
   "attachments": {},
   "cell_type": "markdown",
   "metadata": {},
   "source": [
    "Now, we will define our loss function. We will use the `SparseCategoricalCrossentropy` loss function since we have 10 possible output labels. Additionally, we will be including the softmax with the loss calculation by adding `fromlogits = True` in the loss function. Last but not least, we will be using the Adam algorithm to optimize the processing time since it is much faster than the traditional gradient descent."
   ]
  },
  {
   "cell_type": "code",
   "execution_count": 12,
   "metadata": {},
   "outputs": [],
   "source": [
    "model.compile(\n",
    "    optimizer = tf.keras.optimizers.Adam(learning_rate = 0.001),\n",
    "    loss = tf.keras.losses.SparseCategoricalCrossentropy(from_logits=True),\n",
    "    metrics=['accuracy'],\n",
    ")"
   ]
  },
  {
   "attachments": {},
   "cell_type": "markdown",
   "metadata": {},
   "source": [
    "## 3. Gradient Descent / Adam Algorithm"
   ]
  },
  {
   "attachments": {},
   "cell_type": "markdown",
   "metadata": {},
   "source": [
    "Now, we train the model by giving `x_train` and `y_train`. We will train the model for 4 epochs."
   ]
  },
  {
   "cell_type": "code",
   "execution_count": 13,
   "metadata": {},
   "outputs": [
    {
     "name": "stdout",
     "output_type": "stream",
     "text": [
      "Epoch 1/5\n",
      "1875/1875 [==============================] - 10s 5ms/step - loss: 0.2283 - accuracy: 0.9326\n",
      "Epoch 2/5\n",
      "1875/1875 [==============================] - 7s 4ms/step - loss: 0.0955 - accuracy: 0.9706\n",
      "Epoch 3/5\n",
      "1875/1875 [==============================] - 6s 3ms/step - loss: 0.0684 - accuracy: 0.9788\n",
      "Epoch 4/5\n",
      "1875/1875 [==============================] - 5s 3ms/step - loss: 0.0531 - accuracy: 0.9830\n",
      "Epoch 5/5\n",
      "1875/1875 [==============================] - 6s 3ms/step - loss: 0.0411 - accuracy: 0.9867\n"
     ]
    },
    {
     "data": {
      "text/plain": [
       "<keras.callbacks.History at 0x2903bbb3dc0>"
      ]
     },
     "execution_count": 13,
     "metadata": {},
     "output_type": "execute_result"
    }
   ],
   "source": [
    "model.fit(x_train, y_train, epochs=5)"
   ]
  },
  {
   "attachments": {},
   "cell_type": "markdown",
   "metadata": {},
   "source": [
    "## Testing Model"
   ]
  },
  {
   "attachments": {},
   "cell_type": "markdown",
   "metadata": {},
   "source": [
    "Lets see how accurate our model by testing it on our test dataset"
   ]
  },
  {
   "cell_type": "code",
   "execution_count": 14,
   "metadata": {},
   "outputs": [
    {
     "name": "stdout",
     "output_type": "stream",
     "text": [
      "313/313 [==============================] - 1s 1ms/step - loss: 0.0974 - accuracy: 0.9736\n",
      "Loss = 0.09741924703121185\n",
      "Accuracy of Model = 97.36%\n"
     ]
    }
   ],
   "source": [
    "loss, accuracy = model.evaluate(x_test, y_test)\n",
    "print(f\"Loss = {loss}\")\n",
    "print(f\"Accuracy of Model = {accuracy*100:.2f}%\")"
   ]
  },
  {
   "attachments": {},
   "cell_type": "markdown",
   "metadata": {},
   "source": [
    "Now, we will get all the predictions for all the testing dataset "
   ]
  },
  {
   "cell_type": "code",
   "execution_count": 15,
   "metadata": {},
   "outputs": [
    {
     "name": "stdout",
     "output_type": "stream",
     "text": [
      "313/313 [==============================] - 0s 1ms/step\n",
      "[7 2 1 ... 4 5 6]\n"
     ]
    }
   ],
   "source": [
    "predictions = model.predict(x_test) # gets the predictions from linear function\n",
    "predictions_prob = tf.nn.softmax(predictions).numpy() # this changes the predictions into probabilities\n",
    "predict_num = np.argmax(predictions_prob, axis=1) # select the largest probability as the prediction\n",
    "print(predict_num)"
   ]
  },
  {
   "attachments": {},
   "cell_type": "markdown",
   "metadata": {},
   "source": [
    "Here are all the indexes of testing dataset where the model made incorrect predictions"
   ]
  },
  {
   "cell_type": "code",
   "execution_count": 16,
   "metadata": {},
   "outputs": [
    {
     "name": "stdout",
     "output_type": "stream",
     "text": [
      "Number of incorrect predictions: 264\n"
     ]
    }
   ],
   "source": [
    "# find all examples with incorrect predictions\n",
    "wrong_pred_idx = []\n",
    "for i in range(len(x_test)):\n",
    "    if predict_num[i] != y_test[i]:\n",
    "        wrong_pred_idx.append((i, np.max(predictions_prob[i])))\n",
    "\n",
    "if len(wrong_pred_idx) != 0:\n",
    "    print(f\"Number of incorrect predictions: {len(wrong_pred_idx)}\")\n",
    "else:\n",
    "    print(\"All predictions correct!\")\n"
   ]
  },
  {
   "cell_type": "code",
   "execution_count": 17,
   "metadata": {},
   "outputs": [
    {
     "name": "stdout",
     "output_type": "stream",
     "text": [
      "[(8, 0.5988667), (92, 0.8730682), (124, 0.87716115), (158, 0.84119856), (247, 0.9989095), (274, 0.75958145), (320, 0.51852036), (321, 0.9902361), (340, 0.9854371), (391, 0.68795854), (445, 0.92417306), (495, 0.9924759), (582, 0.9720944), (591, 0.54462737), (619, 0.88473934), (655, 0.61022323), (674, 0.8203207), (684, 0.9779318), (720, 0.97646755), (810, 0.5636043), (900, 0.5708393), (951, 0.6941189), (956, 0.792135), (1014, 0.96662337), (1039, 0.459889), (1044, 0.9058325), (1112, 0.9997979), (1128, 0.582387), (1156, 0.51421463), (1178, 0.42114294), (1182, 0.88119566), (1226, 0.99852353), (1232, 0.26783583), (1242, 0.5966659), (1247, 0.553849), (1260, 0.8298892), (1299, 0.8693336), (1319, 0.7949218), (1331, 0.90157807), (1393, 0.96180606), (1414, 0.84463346), (1429, 0.79117495), (1441, 0.68093985), (1522, 0.5884643), (1530, 0.82691765), (1549, 0.7774274), (1553, 0.9742848), (1554, 0.46601617), (1570, 0.6638654), (1671, 0.8717653), (1681, 0.99618894), (1686, 0.4908056), (1709, 0.46778873), (1737, 0.44374055), (1748, 0.92232627), (1751, 0.993186), (1754, 0.48980373), (1790, 0.9689942), (1843, 0.59171563), (1850, 0.85980666), (1878, 0.95233613), (1901, 0.97976696), (1941, 0.9478244), (1970, 0.74679655), (2004, 0.98093975), (2016, 0.6635379), (2033, 0.99945194), (2035, 0.9242659), (2053, 0.6111626), (2073, 0.9412319), (2093, 0.9880127), (2109, 0.41071683), (2118, 0.5928295), (2129, 0.47763842), (2130, 0.96077716), (2135, 0.9479977), (2182, 0.99161947), (2189, 0.8794318), (2329, 0.7877444), (2333, 0.92652434), (2369, 0.5190977), (2387, 0.98464257), (2405, 0.9934596), (2406, 0.68268526), (2414, 0.6868046), (2426, 0.7239308), (2488, 0.72789), (2512, 0.97495407), (2526, 0.5493146), (2597, 0.9982352), (2607, 0.9867923), (2648, 0.72636753), (2654, 0.9911566), (2730, 0.67170244), (2810, 0.9131187), (2877, 0.9118822), (2896, 0.717549), (2915, 0.9757415), (2921, 0.98575056), (2927, 0.9343073), (2939, 0.80028313), (3005, 0.68742776), (3060, 0.47811523), (3073, 0.9998481), (3115, 0.46364748), (3117, 0.6841815), (3158, 0.9058371), (3289, 0.76361024), (3375, 0.82828397), (3448, 0.81100816), (3475, 0.99849737), (3492, 0.5881757), (3503, 0.9018194), (3516, 0.7383054), (3520, 0.99999857), (3549, 0.988538), (3558, 0.98612636), (3559, 0.5426212), (3567, 0.9101424), (3597, 0.67076045), (3664, 0.940889), (3674, 0.9942768), (3702, 0.83978707), (3727, 0.9967168), (3751, 0.67439973), (3755, 0.81520635), (3776, 0.9320189), (3780, 0.7339145), (3850, 0.9887207), (3853, 0.37629023), (3869, 0.9756275), (3871, 0.6133939), (3893, 0.7588472), (3906, 0.96664757), (3941, 0.9342517), (3951, 0.8099335), (3968, 0.99322623), (3985, 0.7828188), (4000, 0.7292904), (4027, 0.5311815), (4065, 0.32317525), (4075, 0.92851967), (4078, 0.40835372), (4093, 0.71401036), (4123, 0.45521381), (4140, 0.9998272), (4154, 0.9941949), (4176, 0.8068927), (4177, 0.561592), (4224, 0.6203181), (4248, 0.97238255), (4271, 0.9231552), (4284, 0.548398), (4289, 0.4446019), (4294, 0.36700353), (4306, 0.87968016), (4355, 0.7376237), (4369, 0.8782309), (4384, 0.94457465), (4433, 0.73804516), (4437, 0.9579325), (4443, 0.84812224), (4497, 0.8652409), (4500, 0.43129772), (4551, 0.7946384), (4567, 0.66131574), (4571, 0.7505145), (4633, 0.57937473), (4690, 0.8149916), (4731, 0.6345351), (4751, 0.6696619), (4761, 0.9184883), (4807, 0.777351), (4814, 0.9873719), (4823, 0.879256), (4833, 0.6006542), (4880, 0.9983298), (4890, 0.58192664), (4956, 0.8347029), (4978, 0.9612822), (4990, 0.8958852), (5078, 0.8592895), (5140, 0.387274), (5331, 0.88307554), (5457, 0.84153366), (5495, 0.621158), (5586, 0.81743675), (5600, 0.8586997), (5642, 0.6631299), (5734, 0.56620204), (5749, 0.49483347), (5757, 0.9182942), (5784, 0.5349228), (5842, 0.669841), (5858, 0.7577362), (5887, 0.48506314), (5891, 0.6660428), (5913, 0.49719167), (5937, 0.98643607), (5955, 0.8313198), (5972, 0.96203834), (5973, 0.41979617), (5976, 0.5184391), (5982, 0.91695523), (5997, 0.70094395), (6011, 0.95011103), (6024, 0.9554168), (6026, 0.5836082), (6166, 0.6845022), (6421, 0.9538965), (6505, 0.6192262), (6544, 0.6674558), (6557, 0.91307825), (6559, 0.76231766), (6560, 0.38817188), (6571, 0.87642014), (6573, 0.52788657), (6576, 0.71719986), (6597, 0.97551876), (6608, 0.8338448), (6641, 0.9881654), (6651, 0.6341563), (6662, 0.63936347), (6755, 0.7609024), (6783, 0.67847127), (7216, 0.70901513), (7256, 0.8448416), (7309, 0.5355785), (7370, 0.36824468), (7800, 0.9966505), (7821, 0.99020785), (7849, 0.98356473), (7905, 0.6172953), (7978, 0.79194957), (8020, 0.67197514), (8094, 0.89266163), (8246, 0.85904527), (8325, 0.99884135), (8382, 0.9664587), (8426, 0.9913696), (8486, 0.8849568), (8519, 0.97928727), (8522, 0.9725602), (8527, 0.9531295), (9009, 0.99872226), (9015, 0.99571425), (9024, 0.9883387), (9071, 0.72632617), (9163, 0.5178656), (9280, 0.49506804), (9505, 0.67089105), (9587, 0.9998281), (9634, 0.88640124), (9642, 0.6716594), (9664, 0.991627), (9679, 0.97398305), (9692, 0.8948725), (9729, 0.9993135), (9745, 0.46038318), (9770, 0.9259411), (9792, 0.929628), (9808, 0.93851316), (9839, 0.86022836), (9982, 0.9323227)]\n"
     ]
    }
   ],
   "source": [
    "print(wrong_pred_idx)"
   ]
  },
  {
   "attachments": {},
   "cell_type": "markdown",
   "metadata": {},
   "source": [
    "These are the five least confident predictions the model makes."
   ]
  },
  {
   "cell_type": "code",
   "execution_count": 18,
   "metadata": {},
   "outputs": [],
   "source": [
    "def get_five_worst_predictions():\n",
    "    f, ax = plt.subplots(1, 5, figsize=(28,28))\n",
    "    incorrect_lst = wrong_pred_idx.copy()\n",
    "    worst_pred = []\n",
    "\n",
    "    for i in range(5):\n",
    "        least_confidence_ex = min(incorrect_lst, key= lambda j : j[1])\n",
    "        worst_pred.append(least_confidence_ex)\n",
    "        incorrect_lst.remove(least_confidence_ex)\n",
    "    \n",
    "    for j in range(5):\n",
    "        num =  x_test[worst_pred[j][0]].reshape(28,28)\n",
    "        num_predicted = predict_num[worst_pred[j][0]]\n",
    "        num_actual = y_test[worst_pred[j][0]]\n",
    "        probability = worst_pred[j][1]\n",
    "        ax[j].imshow(num, cmap=\"gray\")\n",
    "        ax[j].set_title(f\"Predicted Number: {num_predicted}\\nActual Number: {num_actual}\\nProbability: {probability:.4f}\")"
   ]
  },
  {
   "cell_type": "code",
   "execution_count": 19,
   "metadata": {},
   "outputs": [
    {
     "data": {
      "image/png": "[encoded data removed]",
      "text/plain": [
       "<Figure size 2016x2016 with 5 Axes>"
      ]
     },
     "metadata": {
      "needs_background": "light"
     },
     "output_type": "display_data"
    }
   ],
   "source": [
    "get_five_worst_predictions()"
   ]
  },
  {
   "attachments": {},
   "cell_type": "markdown",
   "metadata": {},
   "source": [
    "We can see that the digits are poorly drawn, hence the lack of confidence in the algorithm. We could increase the number of epochs so we can identify these odd handwritten digits but then we increase the chance of overfitting to our data and will not generalize to any new examples we add to the testing set. "
   ]
  },
  {
   "attachments": {},
   "cell_type": "markdown",
   "metadata": {},
   "source": [
    "## Save the model"
   ]
  },
  {
   "cell_type": "code",
   "execution_count": 20,
   "metadata": {},
   "outputs": [
    {
     "name": "stderr",
     "output_type": "stream",
     "text": [
      "WARNING:absl:Found untraced functions such as _update_step_xla while saving (showing 1 of 1). These functions will not be directly callable after loading.\n"
     ]
    },
    {
     "name": "stdout",
     "output_type": "stream",
     "text": [
      "INFO:tensorflow:Assets written to: numClassification.model\\assets\n"
     ]
    },
    {
     "name": "stderr",
     "output_type": "stream",
     "text": [
      "INFO:tensorflow:Assets written to: numClassification.model\\assets\n"
     ]
    }
   ],
   "source": [
    "model.save('numClassification.model')"
   ]
  }
 ],
 "metadata": {
  "kernelspec": {
   "display_name": "Python 3",
   "language": "python",
   "name": "python3"
  },
  "language_info": {
   "codemirror_mode": {
    "name": "ipython",
    "version": 3
   },
   "file_extension": ".py",
   "mimetype": "text/x-python",
   "name": "python",
   "nbconvert_exporter": "python",
   "pygments_lexer": "ipython3",
   "version": "3.10.5"
  },
  "orig_nbformat": 4
 },
 "nbformat": 4,
 "nbformat_minor": 2
}
